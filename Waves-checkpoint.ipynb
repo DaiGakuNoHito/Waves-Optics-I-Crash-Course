{
 "cells": [
  {
   "cell_type": "code",
   "execution_count": 3,
   "id": "3e2f3d90",
   "metadata": {},
   "outputs": [
    {
     "data": {
      "application/javascript": [
       "IPython.notebook.set_autosave_interval(1000)"
      ]
     },
     "metadata": {},
     "output_type": "display_data"
    },
    {
     "name": "stdout",
     "output_type": "stream",
     "text": [
      "Autosaving every 1 seconds\n"
     ]
    }
   ],
   "source": [
    "%autosave 1\n"
   ]
  },
  {
   "cell_type": "markdown",
   "id": "127fff9b",
   "metadata": {},
   "source": [
    "# Week 1"
   ]
  },
  {
   "cell_type": "markdown",
   "id": "ea4afcc4",
   "metadata": {},
   "source": [
    "### Periodic Motion\n",
    "Motion that repeats itself after regular intervals of time.\n",
    "### Simple Harmonic Motion \n",
    "Exam Definitions\n",
    "\n",
    "\\#1. Motion in which the displacement varies sinusoidally with time."
   ]
  },
  {
   "cell_type": "markdown",
   "id": "ca0711af",
   "metadata": {},
   "source": [
    "### Equations of Motion\n",
    "dd\n",
    "sddddd\n"
   ]
  }
 ],
 "metadata": {
  "kernelspec": {
   "display_name": "Python 3 (ipykernel)",
   "language": "python",
   "name": "python3"
  },
  "language_info": {
   "codemirror_mode": {
    "name": "ipython",
    "version": 3
   },
   "file_extension": ".py",
   "mimetype": "text/x-python",
   "name": "python",
   "nbconvert_exporter": "python",
   "pygments_lexer": "ipython3",
   "version": "3.7.3"
  }
 },
 "nbformat": 4,
 "nbformat_minor": 5
}
