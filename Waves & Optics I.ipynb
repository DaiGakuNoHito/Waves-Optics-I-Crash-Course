{
 "cells": [
  {
   "cell_type": "markdown",
   "id": "127fff9b",
   "metadata": {},
   "source": [
    "# Week 1"
   ]
  },
  {
   "cell_type": "markdown",
   "id": "ea4afcc4",
   "metadata": {},
   "source": [
    "### Periodic Motion\n",
    "Motion that repeats itself after regular intervals of time.\n",
    "### Simple Harmonic Motion \n",
    "Exam Definitions\n",
    "\n",
    "\\#1. Motion in which the displacement varies sinusoidally with time."
   ]
  },
  {
   "cell_type": "markdown",
   "id": "ca0711af",
   "metadata": {},
   "source": [
    "### Equations of Motion\n",
    "\n",
    "\n"
   ]
  }
 ],
 "metadata": {
  "kernelspec": {
   "display_name": "Python 3 (ipykernel)",
   "language": "python",
   "name": "python3"
  },
  "language_info": {
   "codemirror_mode": {
    "name": "ipython",
    "version": 3
   },
   "file_extension": ".py",
   "mimetype": "text/x-python",
   "name": "python",
   "nbconvert_exporter": "python",
   "pygments_lexer": "ipython3",
   "version": "3.7.3"
  }
 },
 "nbformat": 4,
 "nbformat_minor": 5
}
