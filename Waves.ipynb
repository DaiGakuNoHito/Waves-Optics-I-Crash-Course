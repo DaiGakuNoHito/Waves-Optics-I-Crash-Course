{
 "cells": [
  {
   "cell_type": "markdown",
   "id": "127fff9b",
   "metadata": {},
   "source": [
    "# Week 1"
   ]
  },
  {
   "cell_type": "markdown",
   "id": "ea4afcc4",
   "metadata": {},
   "source": [
    "### Periodic Motion\n",
    "Motion that repeats itself after regular intervals of time.\n",
    "### Simple Harmonic Motion \n",
    "Definitions for Exams\n",
    "\n",
    "\\#1. Motion in which the displacement varies sinusoidally with time.<br>\n",
    "\\#2. It is a periodic to-and-fro motion about a fixed point for which the acceleration is <u>proportional but opposite</u> to the displacement from the fixed point (equilibrium position)."
   ]
  },
  {
   "cell_type": "markdown",
   "id": "ca0711af",
   "metadata": {},
   "source": [
    "### Equations of Motion\n",
    "\n"
   ]
  },
  {
   "cell_type": "markdown",
   "id": "79086b09",
   "metadata": {},
   "source": [
    "Definition (of **Simple Harmonic Motion**) for Deriving the **Equations of Motion**"
   ]
  },
  {
   "cell_type": "markdown",
   "id": "cbfe52fc",
   "metadata": {},
   "source": [
    "Simple Harmonic Motion is the <u>projection</u> on the x-axis of a ball moving in a circle."
   ]
  },
  {
   "cell_type": "markdown",
   "id": "997662c9",
   "metadata": {},
   "source": [
    "So, <span style=\"color:green\"><big>$x=r\\cos\\theta$</big></span>, also <span style=\"color:green\"><big>$\\theta=\\omega t$</big></span>"
   ]
  },
  {
   "cell_type": "markdown",
   "id": "c8dea73a",
   "metadata": {},
   "source": [
    "Differentiate twice for *Velocity* and *Acceleration*."
   ]
  },
  {
   "cell_type": "code",
   "execution_count": null,
   "id": "4e0108d7",
   "metadata": {},
   "outputs": [],
   "source": []
  }
 ],
 "metadata": {
  "kernelspec": {
   "display_name": "Python 3 (ipykernel)",
   "language": "python",
   "name": "python3"
  },
  "language_info": {
   "codemirror_mode": {
    "name": "ipython",
    "version": 3
   },
   "file_extension": ".py",
   "mimetype": "text/x-python",
   "name": "python",
   "nbconvert_exporter": "python",
   "pygments_lexer": "ipython3",
   "version": "3.7.3"
  }
 },
 "nbformat": 4,
 "nbformat_minor": 5
}
