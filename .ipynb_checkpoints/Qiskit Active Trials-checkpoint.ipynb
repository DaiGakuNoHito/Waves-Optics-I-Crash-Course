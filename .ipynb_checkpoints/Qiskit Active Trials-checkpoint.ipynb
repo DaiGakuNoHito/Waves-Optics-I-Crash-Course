{
 "cells": [
  {
   "cell_type": "markdown",
   "id": "a560e2f7",
   "metadata": {
    "slideshow": {
     "slide_type": "-"
    }
   },
   "source": [
    "# Preamble<br><sub>The Only Section I will teach you Python</sub><br><sub>(a.k.a We need to introduce some conventions!)</sub>"
   ]
  },
  {
   "cell_type": "markdown",
   "id": "8b648392",
   "metadata": {
    "slideshow": {
     "slide_type": "-"
    }
   },
   "source": [
    "#### There are 3 types of Commands in Python"
   ]
  },
  {
   "cell_type": "markdown",
   "id": "9597393d",
   "metadata": {
    "slideshow": {
     "slide_type": "-"
    }
   },
   "source": [
    "A Command that displays an output (represented as 🎰, meaning Output).\n",
    "\n",
    "For those, expect an output. For example:\n",
    "\n",
    "### <span style=\"color:blue\">print(\"Hello World\")</span> 🎰"
   ]
  },
  {
   "cell_type": "code",
   "execution_count": null,
   "id": "9116f6cd",
   "metadata": {},
   "outputs": [],
   "source": [
    "print(\"Hello World\")"
   ]
  },
  {
   "cell_type": "markdown",
   "id": "3161d701",
   "metadata": {
    "slideshow": {
     "slide_type": "-"
    }
   },
   "source": [
    "A Command that modifies the temporary memory (represented as 🎪, meaning Hidden Process).<br>\n",
    "When you write:\n",
    "### <span style=\"color:blue\">x = [1, 2, 3, 4, 5]</span> 🎪\n",
    "It *reads*, or copies <span style=\"color:blue\">[1, 2, 3, 4, 5]</span> into your temporary memory.<br>\n",
    "When you do:\n",
    "### <span style=\"color:blue\">del x[0]</span> 🎪\n",
    "You will not see the first element in the list disappear!<br>\n",
    "That's because it does not disappear **on your script** but rather disappears from the **temporary memory**.<br>\n",
    "Remember: These commands do not produce any output, just modify your temporary memory.\n",
    "\n",
    "Command <span style=\"color:blue\">x = [1, 2, 3, 4, 5]</span> 🎪 changes your temporary memory by *adding* to it, while Command <span style=\"color:blue\">del x[0]</span> 🎪 changes your temporary memory by *removing* from it.\n",
    "\n",
    "For these Commands, expect to use them without getting any output in return. *These Commands just do the job and move on.* Doesn't give output for further processing either, like storing in a variable."
   ]
  },
  {
   "cell_type": "code",
   "execution_count": null,
   "id": "f7f8e8b5",
   "metadata": {
    "slideshow": {
     "slide_type": "-"
    }
   },
   "outputs": [],
   "source": [
    "x = [1, 2, 3, 4, 5]\n",
    "del x[0]"
   ]
  },
  {
   "cell_type": "markdown",
   "id": "0892a4de",
   "metadata": {},
   "source": [
    "A Command that makes itself equal to the result of the processing it initiates, operation called *return* (represented as 🐣, meaning Hatches a Value).\n",
    "\n",
    "For example:\n",
    "\n",
    "### <span style=\"color:blue\">\"smith ronald\".title()</span> 🐣\n",
    "(Command that capitalises names of people.)"
   ]
  },
  {
   "cell_type": "code",
   "execution_count": null,
   "id": "a11df046",
   "metadata": {
    "slideshow": {
     "slide_type": "-"
    }
   },
   "outputs": [],
   "source": [
    "\"smith ronald\".title()"
   ]
  },
  {
   "cell_type": "markdown",
   "id": "a59dec70",
   "metadata": {},
   "source": [
    "Python does output it even we never told it to, but know that it's not required. 'Smith Ronald' is a *floating* output. Python displays it because it has nothing else to do. But when it has multiple of these to display..!"
   ]
  },
  {
   "cell_type": "code",
   "execution_count": null,
   "id": "8cd0897c",
   "metadata": {
    "slideshow": {
     "slide_type": "-"
    }
   },
   "outputs": [],
   "source": [
    "\"smith ronald\".title()\n",
    "\"dame giselle\".title()\n",
    "\"fernando alfonsi\".title()"
   ]
  },
  {
   "cell_type": "markdown",
   "id": "e7e8b7e8",
   "metadata": {
    "slideshow": {
     "slide_type": "-"
    }
   },
   "source": [
    "Some of the data is **lost**. Can't argue though, it didn't *have* to display them anyway.<br>\n",
    "Moral: Leaving your outputs floating is *precarious*. Whenever you have a Hatches-a-Value Command, **always store it in some variable** or just *print* it."
   ]
  },
  {
   "cell_type": "code",
   "execution_count": null,
   "id": "639a2ac1",
   "metadata": {},
   "outputs": [],
   "source": [
    "x = \"smith ronald\".title()\n",
    "y = \"dame giselle\".title()\n",
    "z = \"fernando alfonsi\".title()\n",
    "\n",
    "print(x)\n",
    "print(y)\n",
    "print(z)"
   ]
  },
  {
   "cell_type": "markdown",
   "id": "35dfcbe5",
   "metadata": {
    "slideshow": {
     "slide_type": "-"
    }
   },
   "source": [
    "# Initialising a Circuit<br><sub>(the Circuit Itself Does Nothing)</sub><br><sub>All Commands in <span style=\"color:red\">qiskit.QuantumCircuit xoxoxox</span></sub>\n",
    "\n",
    "### <span style=\"color:blue\">QuantumCircuit(inputQubits, outputBits)</span> 🐣\n",
    "This command creates a circuit, or *returns* a circuit, given 2 arguments. The arguments are numbers. Note, your inputs are Qubits. But your outputs, just regular Bits!<br>\n",
    "(Rumour has it that in fact the output is also a Qubit, but special Algorithms filter out wrong 'frequencies' such that the output is treated as if it's a Bit.)\n",
    "\n",
    "\n",
    "### <span style=\"color:blue\">.draw()</span> 🐣\n",
    "This command creates a diagram of the circuit. Our 8 Input Qubits are q<sub>0</sub> to q<sub>7</sub> (we start at q<sub>0</sub> following Python Numbering System). C at the bottom is the Output Line—the number it indicates denoting the total number of outputs.\n",
    "#### .draw(<span style=\"color:blue\">output=\"mpl\"</span>) 🐣\n",
    "Using this option in our command creates the diagram using MatPlotLib.<br>\n",
    "Note: Use *plt.show()* 🎰 to display the circuit as opposed to *print()*."
   ]
  },
  {
   "cell_type": "code",
   "execution_count": null,
   "id": "5f93283e",
   "metadata": {},
   "outputs": [],
   "source": [
    "from qiskit import QuantumCircuit\n",
    "\n",
    "circuit = QuantumCircuit(8, 8)\n",
    "\n",
    "print(circuit.draw())"
   ]
  },
  {
   "cell_type": "markdown",
   "id": "666d6673",
   "metadata": {},
   "source": [
    "Good! You now have a circuit with 8 inputs and 8 outputs. Think of the outputs as **display screens**.<br>\n",
    "You don't have to have *8* displays, even for 8 Qubits. You could merge all Qubits together and display it on *one* screen—a circuit with 8 inputs and 1 output!<br><br>\n",
    "The idea is the output screens are independent of the inputs. Doesn't mean because you have 8 inputs and 8 outputs that q<sub>1</sub> connects with o<sub>1</sub>, q<sub>2</sub> with o<sub>2</sub>—you can have 8 inputs, merge all into one, have 2 outputs, then **choose** to display on either *screen one*, or *screen two*.\n",
    "### <span style=\"color:blue\">.measure(QubitNumber, outputScreenNumber)</span> 🎪\n",
    "Remember: We said we have 8 Qubits—but they're numbered from **0** to **7**. And so are the outputs.<br><br>\n",
    "**.measure()** reads the state of your Qubit and feeds it *directly*  to the screen of your choice.<br>\n",
    "*[It is a Hidden Process because it simply makes connections in the circuit. Until the circuit is switched on there's no actual data to be fed whatsoever.]*<br><br>\n",
    "Bon, what do we mean by \"to read the state of the Qubit\"? Whatever that means! Let's move on.."
   ]
  },
  {
   "cell_type": "code",
   "execution_count": null,
   "id": "10aebf52",
   "metadata": {},
   "outputs": [],
   "source": [
    "from qiskit import QuantumCircuit\n",
    "\n",
    "circuit = QuantumCircuit(8, 8)\n",
    "\n",
    "for number in range(8):\n",
    "    circuit.measure(number,number)\n",
    "    \n",
    "circuit.draw()"
   ]
  },
  {
   "cell_type": "markdown",
   "id": "b3ee55a4",
   "metadata": {},
   "source": [
    "We are allowed to feed whatever Qubit to whatever screen, but not 2 Qubits to the same screen, else which Qubit will the screen display?<br>\n",
    "*Here is the same code, but feedings are randomised. Run it multiple times!*"
   ]
  },
  {
   "cell_type": "code",
   "execution_count": null,
   "id": "a96a89b1",
   "metadata": {
    "scrolled": true
   },
   "outputs": [],
   "source": [
    "from qiskit import QuantumCircuit\n",
    "import random\n",
    "\n",
    "circuit = QuantumCircuit(8, 8)\n",
    "\n",
    "# Make a list from 0 to 7, pluck out a number PERMANENTLY at random and feed that number to screen one, repeat for screen two..\n",
    "# Instead of plucking numbers at random, we can randomise our list and keep taking out the last number until none is left\n",
    "QubitNumbers = [0, 1, 2, 3, 4, 5, 6, 7]\n",
    "\n",
    "random.shuffle(QubitNumbers) #🎪\n",
    "\n",
    "for number in range(8):\n",
    "    \n",
    "    randomQubit = QubitNumbers.pop() #🎪🐣\n",
    "    circuit.measure(randomQubit,number)\n",
    "    \n",
    "circuit.draw()"
   ]
  },
  {
   "cell_type": "markdown",
   "id": "a88012ef",
   "metadata": {},
   "source": [
    "Finally, you're allowed to feed the same Qubit to all screen outputs. All the other Qubits can exist without being fed to anything!"
   ]
  },
  {
   "cell_type": "code",
   "execution_count": null,
   "id": "16b7ec0e",
   "metadata": {
    "scrolled": true
   },
   "outputs": [],
   "source": [
    "from qiskit import QuantumCircuit\n",
    "\n",
    "circuit = QuantumCircuit(8, 8)\n",
    "\n",
    "for number in range(8):\n",
    "    circuit.measure(0,number)\n",
    "\n",
    "circuit.draw()"
   ]
  },
  {
   "cell_type": "markdown",
   "id": "3156720c",
   "metadata": {},
   "source": [
    "Now, we've said your circuit can have Inputs, have Output Screens, and also you can connect the Inputs to the Outputs.<br>\n",
    "But how can you *read* what is on the Output Screen?"
   ]
  },
  {
   "cell_type": "markdown",
   "id": "8cdeb537",
   "metadata": {},
   "source": [
    "# The Quantum Simulator"
   ]
  },
  {
   "cell_type": "markdown",
   "id": "2c8dbb8d",
   "metadata": {},
   "source": [
    "Theretofore we've only been *designing* our circuit—we've only been making a blueprint.<br>\n",
    "Now we need to *build* it—using the **<span style=\"color:blue\">assemble(</span>object<span style=\"color:blue\">)</span> 🐣** command."
   ]
  },
  {
   "cell_type": "markdown",
   "id": "fba8ae0f",
   "metadata": {},
   "source": [
    "And once you've assembled, you give life to your circuit by running it on the simulator:"
   ]
  },
  {
   "cell_type": "markdown",
   "id": "f885ad0b",
   "metadata": {},
   "source": [
    "### <span style=\"color:blue\">Aer.get_backend(</span><span style=\"color:brown\">'aer_simulator'</span><span style=\"color:blue\">).run(</span>qobj<span style=\"color:blue\">)</span>"
   ]
  },
  {
   "cell_type": "markdown",
   "id": "a54a884d",
   "metadata": {},
   "source": [
    "Note: When you use a real Quantum device, remember to replace <span style=\"color:brown\">aer_simulator</span> above by the name of your Quantum device!"
   ]
  },
  {
   "cell_type": "markdown",
   "id": "e778dbd9",
   "metadata": {},
   "source": [
    "Normally all *import* statements we write them at the top, but keeping with the principle of only importing things when you need to, we can write *imports* mid-program to better teach you."
   ]
  },
  {
   "cell_type": "code",
   "execution_count": null,
   "id": "b933c6c0",
   "metadata": {},
   "outputs": [],
   "source": [
    "# Start by creating a dummy circuit—it's the same one as before. I just copy-pasted.\n",
    "\n",
    "from qiskit import QuantumCircuit\n",
    "\n",
    "circuit = QuantumCircuit(8, 8)\n",
    "\n",
    "for number in range(8):\n",
    "    circuit.measure(0,number)"
   ]
  },
  {
   "cell_type": "code",
   "execution_count": null,
   "id": "a22d271f",
   "metadata": {},
   "outputs": [],
   "source": [
    "from qiskit import assemble\n",
    "qobj = assemble(circuit)\n",
    "\n",
    "\n",
    "\n",
    "from qiskit import Aer      # Aer is our Quantum Simulator   \n",
    "result = Aer.get_backend('aer_simulator').run(qobj)\n",
    "resultis = result.result()\n",
    "resultiste = resultis.get_counts()  \n",
    "\n",
    "print(result)\n",
    "#print(resultis)\n",
    "print(resultiste)\n",
    "# we run the experiment and get the result from that experiment\n",
    "# from the results, we get a dictionary containing the number of times each result appeared (counts)\n",
    "\n",
    "\n",
    "from qiskit.visualization import plot_histogram\n",
    "# and display it on a histogram\n",
    "plot_histogram({123:1024, 456:277})"
   ]
  },
  {
   "cell_type": "markdown",
   "id": "0f4d7222",
   "metadata": {},
   "source": [
    "Here is a little mnemonic with corresponding commands on how to do in Quantum Circuitry:<br>\n",
    "(after, of course, planning the inputs, outputs and circuit content with various commands..)\n",
    "\n",
    "    Design ➜ Build ➜ Activate\n",
    "   \n",
    "### <span style=\"color:black\">circuit</span><span style=\"color:blue\">.draw()</span> ➜ <span style=\"color:blue\">assemble(</span><span style=\"color:black\">object</span><span style=\"color:blue\">)</span> ➜ "
   ]
  },
  {
   "cell_type": "markdown",
   "id": "0259df2e",
   "metadata": {},
   "source": [
    "https://web.archive.org/web/20210423100337/https://qiskit.org/textbook/ch-states/atoms-computation.html#3.-Your-first-quantum-circuit-"
   ]
  },
  {
   "cell_type": "code",
   "execution_count": null,
   "id": "19074b3c",
   "metadata": {},
   "outputs": [],
   "source": [
    "new change!!!"
   ]
  }
 ],
 "metadata": {
  "kernelspec": {
   "display_name": "Python 3 (ipykernel)",
   "language": "python",
   "name": "python3"
  },
  "language_info": {
   "codemirror_mode": {
    "name": "ipython",
    "version": 3
   },
   "file_extension": ".py",
   "mimetype": "text/x-python",
   "name": "python",
   "nbconvert_exporter": "python",
   "pygments_lexer": "ipython3",
   "version": "3.7.3"
  }
 },
 "nbformat": 4,
 "nbformat_minor": 5
}
